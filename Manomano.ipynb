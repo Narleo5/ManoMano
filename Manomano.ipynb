{
 "cells": [
  {
   "cell_type": "code",
   "execution_count": 1,
   "metadata": {},
   "outputs": [],
   "source": [
    "import pandas as pd\n",
    "import numpy as np\n",
    "import seaborn as sns\n",
    "import os\n",
    "os.chdir('C:/Users/zitou/OneDrive/Bureau/Statapp')"
   ]
  },
  {
   "cell_type": "code",
   "execution_count": 2,
   "metadata": {},
   "outputs": [
    {
     "data": {
      "text/html": [
       "<div>\n",
       "<style scoped>\n",
       "    .dataframe tbody tr th:only-of-type {\n",
       "        vertical-align: middle;\n",
       "    }\n",
       "\n",
       "    .dataframe tbody tr th {\n",
       "        vertical-align: top;\n",
       "    }\n",
       "\n",
       "    .dataframe thead th {\n",
       "        text-align: right;\n",
       "    }\n",
       "</style>\n",
       "<table border=\"1\" class=\"dataframe\">\n",
       "  <thead>\n",
       "    <tr style=\"text-align: right;\">\n",
       "      <th></th>\n",
       "      <th>product_id</th>\n",
       "      <th>generic_id</th>\n",
       "      <th>article_id</th>\n",
       "      <th>image_url</th>\n",
       "      <th>product_name</th>\n",
       "      <th>product_description</th>\n",
       "      <th>category_id</th>\n",
       "      <th>platform</th>\n",
       "      <th>attribute_dict</th>\n",
       "    </tr>\n",
       "  </thead>\n",
       "  <tbody>\n",
       "    <tr>\n",
       "      <th>0</th>\n",
       "      <td>57</td>\n",
       "      <td>57</td>\n",
       "      <td>57</td>\n",
       "      <td>cdn.manomano.fr/images/images_products/10/P/57...</td>\n",
       "      <td>Raccord biconique olive F3/8 (12/17) pour cuiv...</td>\n",
       "      <td>&lt;p&gt;Raccord biconique olive F3/8 (12/17) pour c...</td>\n",
       "      <td>1555</td>\n",
       "      <td>FR</td>\n",
       "      <td>{'attribute': 'Filetage 1', 'value': '3/8\" (12...</td>\n",
       "    </tr>\n",
       "    <tr>\n",
       "      <th>1</th>\n",
       "      <td>58</td>\n",
       "      <td>58</td>\n",
       "      <td>57</td>\n",
       "      <td>cdn.manomano.fr/images/images_products/10/P/58...</td>\n",
       "      <td>Raccord biconique olive F1/2 (15/21) pour cuiv...</td>\n",
       "      <td>&lt;p&gt;Raccord biconique olive F1/2 (15/21) pour c...</td>\n",
       "      <td>1555</td>\n",
       "      <td>FR</td>\n",
       "      <td>{'attribute': 'Filetage 1', 'value': '1/2\" (15...</td>\n",
       "    </tr>\n",
       "    <tr>\n",
       "      <th>2</th>\n",
       "      <td>59</td>\n",
       "      <td>59</td>\n",
       "      <td>57</td>\n",
       "      <td>cdn.manomano.fr/images/images_products/10/P/59...</td>\n",
       "      <td>Raccord biconique olive F1/2 (15/21) pour cuiv...</td>\n",
       "      <td>&lt;p&gt;Raccord biconique olive F1/2 (15/21) pour c...</td>\n",
       "      <td>1555</td>\n",
       "      <td>FR</td>\n",
       "      <td>{'attribute': 'Filetage 1', 'value': '1/2\" (15...</td>\n",
       "    </tr>\n",
       "    <tr>\n",
       "      <th>3</th>\n",
       "      <td>60</td>\n",
       "      <td>60</td>\n",
       "      <td>57</td>\n",
       "      <td>cdn.manomano.fr/images/images_products/10/P/60...</td>\n",
       "      <td>Raccord biconique olive F1/2 (15/21) pour cuiv...</td>\n",
       "      <td>&lt;p&gt;Raccord biconique olive F1/2 (15/21) pour c...</td>\n",
       "      <td>1555</td>\n",
       "      <td>FR</td>\n",
       "      <td>{'attribute': 'Filetage 1', 'value': '1/2\" (15...</td>\n",
       "    </tr>\n",
       "    <tr>\n",
       "      <th>4</th>\n",
       "      <td>61</td>\n",
       "      <td>61</td>\n",
       "      <td>57</td>\n",
       "      <td>cdn.manomano.fr/images/images_products/10/P/61...</td>\n",
       "      <td>Raccord biconique olive F3/4 (20/27) pour cuiv...</td>\n",
       "      <td>&lt;p&gt;Raccord biconique olive F3/4 (20/27) pour c...</td>\n",
       "      <td>1555</td>\n",
       "      <td>FR</td>\n",
       "      <td>{'attribute': 'Filetage 1', 'value': '3/4\" (20...</td>\n",
       "    </tr>\n",
       "  </tbody>\n",
       "</table>\n",
       "</div>"
      ],
      "text/plain": [
       "   product_id  generic_id  article_id  \\\n",
       "0          57          57          57   \n",
       "1          58          58          57   \n",
       "2          59          59          57   \n",
       "3          60          60          57   \n",
       "4          61          61          57   \n",
       "\n",
       "                                           image_url  \\\n",
       "0  cdn.manomano.fr/images/images_products/10/P/57...   \n",
       "1  cdn.manomano.fr/images/images_products/10/P/58...   \n",
       "2  cdn.manomano.fr/images/images_products/10/P/59...   \n",
       "3  cdn.manomano.fr/images/images_products/10/P/60...   \n",
       "4  cdn.manomano.fr/images/images_products/10/P/61...   \n",
       "\n",
       "                                        product_name  \\\n",
       "0  Raccord biconique olive F3/8 (12/17) pour cuiv...   \n",
       "1  Raccord biconique olive F1/2 (15/21) pour cuiv...   \n",
       "2  Raccord biconique olive F1/2 (15/21) pour cuiv...   \n",
       "3  Raccord biconique olive F1/2 (15/21) pour cuiv...   \n",
       "4  Raccord biconique olive F3/4 (20/27) pour cuiv...   \n",
       "\n",
       "                                 product_description  category_id platform  \\\n",
       "0  <p>Raccord biconique olive F3/8 (12/17) pour c...         1555       FR   \n",
       "1  <p>Raccord biconique olive F1/2 (15/21) pour c...         1555       FR   \n",
       "2  <p>Raccord biconique olive F1/2 (15/21) pour c...         1555       FR   \n",
       "3  <p>Raccord biconique olive F1/2 (15/21) pour c...         1555       FR   \n",
       "4  <p>Raccord biconique olive F3/4 (20/27) pour c...         1555       FR   \n",
       "\n",
       "                                      attribute_dict  \n",
       "0  {'attribute': 'Filetage 1', 'value': '3/8\" (12...  \n",
       "1  {'attribute': 'Filetage 1', 'value': '1/2\" (15...  \n",
       "2  {'attribute': 'Filetage 1', 'value': '1/2\" (15...  \n",
       "3  {'attribute': 'Filetage 1', 'value': '1/2\" (15...  \n",
       "4  {'attribute': 'Filetage 1', 'value': '3/4\" (20...  "
      ]
     },
     "execution_count": 2,
     "metadata": {},
     "output_type": "execute_result"
    }
   ],
   "source": [
    "data = pd.read_csv('manomano.csv')\n",
    "data.head()"
   ]
  },
  {
   "cell_type": "code",
   "execution_count": 3,
   "metadata": {},
   "outputs": [
    {
     "data": {
      "text/html": [
       "<div>\n",
       "<style scoped>\n",
       "    .dataframe tbody tr th:only-of-type {\n",
       "        vertical-align: middle;\n",
       "    }\n",
       "\n",
       "    .dataframe tbody tr th {\n",
       "        vertical-align: top;\n",
       "    }\n",
       "\n",
       "    .dataframe thead th {\n",
       "        text-align: right;\n",
       "    }\n",
       "</style>\n",
       "<table border=\"1\" class=\"dataframe\">\n",
       "  <thead>\n",
       "    <tr style=\"text-align: right;\">\n",
       "      <th></th>\n",
       "      <th>product_id</th>\n",
       "      <th>generic_id</th>\n",
       "      <th>article_id</th>\n",
       "      <th>image_url</th>\n",
       "      <th>product_name</th>\n",
       "      <th>product_description</th>\n",
       "      <th>category_id</th>\n",
       "      <th>platform</th>\n",
       "      <th>attribute_dict</th>\n",
       "    </tr>\n",
       "  </thead>\n",
       "  <tbody>\n",
       "    <tr>\n",
       "      <th>0</th>\n",
       "      <td>57</td>\n",
       "      <td>57</td>\n",
       "      <td>57</td>\n",
       "      <td>cdn.manomano.fr/images/images_products/10/P/57...</td>\n",
       "      <td>Raccord biconique olive F3/8 (12/17) pour cuiv...</td>\n",
       "      <td>&lt;p&gt;Raccord biconique olive F3/8 (12/17) pour c...</td>\n",
       "      <td>1555</td>\n",
       "      <td>FR</td>\n",
       "      <td>{'attribute': 'Filetage 1', 'value': '3/8\" (12...</td>\n",
       "    </tr>\n",
       "    <tr>\n",
       "      <th>1</th>\n",
       "      <td>58</td>\n",
       "      <td>58</td>\n",
       "      <td>57</td>\n",
       "      <td>cdn.manomano.fr/images/images_products/10/P/58...</td>\n",
       "      <td>Raccord biconique olive F1/2 (15/21) pour cuiv...</td>\n",
       "      <td>&lt;p&gt;Raccord biconique olive F1/2 (15/21) pour c...</td>\n",
       "      <td>1555</td>\n",
       "      <td>FR</td>\n",
       "      <td>{'attribute': 'Filetage 1', 'value': '1/2\" (15...</td>\n",
       "    </tr>\n",
       "    <tr>\n",
       "      <th>2</th>\n",
       "      <td>59</td>\n",
       "      <td>59</td>\n",
       "      <td>57</td>\n",
       "      <td>cdn.manomano.fr/images/images_products/10/P/59...</td>\n",
       "      <td>Raccord biconique olive F1/2 (15/21) pour cuiv...</td>\n",
       "      <td>&lt;p&gt;Raccord biconique olive F1/2 (15/21) pour c...</td>\n",
       "      <td>1555</td>\n",
       "      <td>FR</td>\n",
       "      <td>{'attribute': 'Filetage 1', 'value': '1/2\" (15...</td>\n",
       "    </tr>\n",
       "    <tr>\n",
       "      <th>3</th>\n",
       "      <td>60</td>\n",
       "      <td>60</td>\n",
       "      <td>57</td>\n",
       "      <td>cdn.manomano.fr/images/images_products/10/P/60...</td>\n",
       "      <td>Raccord biconique olive F1/2 (15/21) pour cuiv...</td>\n",
       "      <td>&lt;p&gt;Raccord biconique olive F1/2 (15/21) pour c...</td>\n",
       "      <td>1555</td>\n",
       "      <td>FR</td>\n",
       "      <td>{'attribute': 'Filetage 1', 'value': '1/2\" (15...</td>\n",
       "    </tr>\n",
       "    <tr>\n",
       "      <th>4</th>\n",
       "      <td>61</td>\n",
       "      <td>61</td>\n",
       "      <td>57</td>\n",
       "      <td>cdn.manomano.fr/images/images_products/10/P/61...</td>\n",
       "      <td>Raccord biconique olive F3/4 (20/27) pour cuiv...</td>\n",
       "      <td>&lt;p&gt;Raccord biconique olive F3/4 (20/27) pour c...</td>\n",
       "      <td>1555</td>\n",
       "      <td>FR</td>\n",
       "      <td>{'attribute': 'Filetage 1', 'value': '3/4\" (20...</td>\n",
       "    </tr>\n",
       "    <tr>\n",
       "      <th>...</th>\n",
       "      <td>...</td>\n",
       "      <td>...</td>\n",
       "      <td>...</td>\n",
       "      <td>...</td>\n",
       "      <td>...</td>\n",
       "      <td>...</td>\n",
       "      <td>...</td>\n",
       "      <td>...</td>\n",
       "      <td>...</td>\n",
       "    </tr>\n",
       "    <tr>\n",
       "      <th>2231</th>\n",
       "      <td>26296954</td>\n",
       "      <td>25981341</td>\n",
       "      <td>26000450</td>\n",
       "      <td>cdn.manomano.fr/images/images_products/12/P/26...</td>\n",
       "      <td>Raccord laiton bicone mâle M1/2' (15x21) pour ...</td>\n",
       "      <td>&lt;u&gt;Détails :&lt;/u&gt; &lt;ul&gt;&lt;li&gt;Installation sur tube...</td>\n",
       "      <td>1555</td>\n",
       "      <td>FR</td>\n",
       "      <td>{'attribute': 'Filetage 1', 'value': '1/2\" (15...</td>\n",
       "    </tr>\n",
       "    <tr>\n",
       "      <th>2232</th>\n",
       "      <td>26296961</td>\n",
       "      <td>25981348</td>\n",
       "      <td>26000457</td>\n",
       "      <td>cdn.manomano.fr/images/images_products/12/P/26...</td>\n",
       "      <td>Raccord laiton bicone mâle M1/2' (15x21) pour ...</td>\n",
       "      <td>&lt;u&gt;Détails :&lt;/u&gt; &lt;ul&gt;&lt;li&gt;Installation sur tube...</td>\n",
       "      <td>1555</td>\n",
       "      <td>FR</td>\n",
       "      <td>{'attribute': 'Filetage 3', 'value': '1/2\" (15...</td>\n",
       "    </tr>\n",
       "    <tr>\n",
       "      <th>2233</th>\n",
       "      <td>26296985</td>\n",
       "      <td>25981372</td>\n",
       "      <td>26000481</td>\n",
       "      <td>cdn.manomano.fr/images/images_products/12/P/26...</td>\n",
       "      <td>Jonction laiton bicone réduite pour tube cuivr...</td>\n",
       "      <td>&lt;u&gt;Détails :&lt;/u&gt; &lt;ul&gt;&lt;li&gt;Installation sur tube...</td>\n",
       "      <td>1555</td>\n",
       "      <td>FR</td>\n",
       "      <td>{'attribute': 'Type de raccordement', 'value':...</td>\n",
       "    </tr>\n",
       "    <tr>\n",
       "      <th>2234</th>\n",
       "      <td>26297022</td>\n",
       "      <td>25981409</td>\n",
       "      <td>26000518</td>\n",
       "      <td>cdn.manomano.fr/images/images_products/12/P/26...</td>\n",
       "      <td>Raccord laiton à joint mixte femelle F1/2' (15...</td>\n",
       "      <td>&lt;u&gt;Détails :&lt;/u&gt; &lt;ul&gt;&lt;li&gt;Utilisation sur tube ...</td>\n",
       "      <td>1555</td>\n",
       "      <td>FR</td>\n",
       "      <td>{'attribute': 'Filetage 3', 'value': '1/2\" (15...</td>\n",
       "    </tr>\n",
       "    <tr>\n",
       "      <th>2235</th>\n",
       "      <td>26297031</td>\n",
       "      <td>25981418</td>\n",
       "      <td>26000527</td>\n",
       "      <td>cdn.manomano.fr/images/images_products/12/P/26...</td>\n",
       "      <td>Coude laiton à joint mixte égal pour tube cuiv...</td>\n",
       "      <td>&lt;u&gt;Détails :&lt;/u&gt; &lt;ul&gt;&lt;li&gt;Utilisation sur tube ...</td>\n",
       "      <td>1555</td>\n",
       "      <td>FR</td>\n",
       "      <td>{'attribute': 'Longueur', 'value': '12.000', '...</td>\n",
       "    </tr>\n",
       "  </tbody>\n",
       "</table>\n",
       "<p>2236 rows × 9 columns</p>\n",
       "</div>"
      ],
      "text/plain": [
       "      product_id  generic_id  article_id  \\\n",
       "0             57          57          57   \n",
       "1             58          58          57   \n",
       "2             59          59          57   \n",
       "3             60          60          57   \n",
       "4             61          61          57   \n",
       "...          ...         ...         ...   \n",
       "2231    26296954    25981341    26000450   \n",
       "2232    26296961    25981348    26000457   \n",
       "2233    26296985    25981372    26000481   \n",
       "2234    26297022    25981409    26000518   \n",
       "2235    26297031    25981418    26000527   \n",
       "\n",
       "                                              image_url  \\\n",
       "0     cdn.manomano.fr/images/images_products/10/P/57...   \n",
       "1     cdn.manomano.fr/images/images_products/10/P/58...   \n",
       "2     cdn.manomano.fr/images/images_products/10/P/59...   \n",
       "3     cdn.manomano.fr/images/images_products/10/P/60...   \n",
       "4     cdn.manomano.fr/images/images_products/10/P/61...   \n",
       "...                                                 ...   \n",
       "2231  cdn.manomano.fr/images/images_products/12/P/26...   \n",
       "2232  cdn.manomano.fr/images/images_products/12/P/26...   \n",
       "2233  cdn.manomano.fr/images/images_products/12/P/26...   \n",
       "2234  cdn.manomano.fr/images/images_products/12/P/26...   \n",
       "2235  cdn.manomano.fr/images/images_products/12/P/26...   \n",
       "\n",
       "                                           product_name  \\\n",
       "0     Raccord biconique olive F3/8 (12/17) pour cuiv...   \n",
       "1     Raccord biconique olive F1/2 (15/21) pour cuiv...   \n",
       "2     Raccord biconique olive F1/2 (15/21) pour cuiv...   \n",
       "3     Raccord biconique olive F1/2 (15/21) pour cuiv...   \n",
       "4     Raccord biconique olive F3/4 (20/27) pour cuiv...   \n",
       "...                                                 ...   \n",
       "2231  Raccord laiton bicone mâle M1/2' (15x21) pour ...   \n",
       "2232  Raccord laiton bicone mâle M1/2' (15x21) pour ...   \n",
       "2233  Jonction laiton bicone réduite pour tube cuivr...   \n",
       "2234  Raccord laiton à joint mixte femelle F1/2' (15...   \n",
       "2235  Coude laiton à joint mixte égal pour tube cuiv...   \n",
       "\n",
       "                                    product_description  category_id platform  \\\n",
       "0     <p>Raccord biconique olive F3/8 (12/17) pour c...         1555       FR   \n",
       "1     <p>Raccord biconique olive F1/2 (15/21) pour c...         1555       FR   \n",
       "2     <p>Raccord biconique olive F1/2 (15/21) pour c...         1555       FR   \n",
       "3     <p>Raccord biconique olive F1/2 (15/21) pour c...         1555       FR   \n",
       "4     <p>Raccord biconique olive F3/4 (20/27) pour c...         1555       FR   \n",
       "...                                                 ...          ...      ...   \n",
       "2231  <u>Détails :</u> <ul><li>Installation sur tube...         1555       FR   \n",
       "2232  <u>Détails :</u> <ul><li>Installation sur tube...         1555       FR   \n",
       "2233  <u>Détails :</u> <ul><li>Installation sur tube...         1555       FR   \n",
       "2234  <u>Détails :</u> <ul><li>Utilisation sur tube ...         1555       FR   \n",
       "2235  <u>Détails :</u> <ul><li>Utilisation sur tube ...         1555       FR   \n",
       "\n",
       "                                         attribute_dict  \n",
       "0     {'attribute': 'Filetage 1', 'value': '3/8\" (12...  \n",
       "1     {'attribute': 'Filetage 1', 'value': '1/2\" (15...  \n",
       "2     {'attribute': 'Filetage 1', 'value': '1/2\" (15...  \n",
       "3     {'attribute': 'Filetage 1', 'value': '1/2\" (15...  \n",
       "4     {'attribute': 'Filetage 1', 'value': '3/4\" (20...  \n",
       "...                                                 ...  \n",
       "2231  {'attribute': 'Filetage 1', 'value': '1/2\" (15...  \n",
       "2232  {'attribute': 'Filetage 3', 'value': '1/2\" (15...  \n",
       "2233  {'attribute': 'Type de raccordement', 'value':...  \n",
       "2234  {'attribute': 'Filetage 3', 'value': '1/2\" (15...  \n",
       "2235  {'attribute': 'Longueur', 'value': '12.000', '...  \n",
       "\n",
       "[2236 rows x 9 columns]"
      ]
     },
     "execution_count": 3,
     "metadata": {},
     "output_type": "execute_result"
    }
   ],
   "source": [
    "data"
   ]
  },
  {
   "cell_type": "code",
   "execution_count": 4,
   "metadata": {},
   "outputs": [
    {
     "data": {
      "text/plain": [
       "519.2025761124122"
      ]
     },
     "execution_count": 4,
     "metadata": {},
     "output_type": "execute_result"
    }
   ],
   "source": [
    "# Longueur moyenne du texte à traiter\n",
    "data.product_description.drop_duplicates().apply(len).mean()"
   ]
  },
  {
   "cell_type": "code",
   "execution_count": 5,
   "metadata": {
    "scrolled": true
   },
   "outputs": [
    {
     "data": {
      "text/plain": [
       "<matplotlib.axes._subplots.AxesSubplot at 0x1f99cdbb648>"
      ]
     },
     "execution_count": 5,
     "metadata": {},
     "output_type": "execute_result"
    },
    {
     "data": {
      "image/png": "[encoded data removed]",
      "text/plain": [
       "<Figure size 432x288 with 1 Axes>"
      ]
     },
     "metadata": {
      "needs_background": "light"
     },
     "output_type": "display_data"
    }
   ],
   "source": [
    "data.product_description.drop_duplicates().apply(len).hist(bins = 100)"
   ]
  },
  {
   "cell_type": "markdown",
   "metadata": {},
   "source": [
    "## Petit preprocessing"
   ]
  },
  {
   "cell_type": "code",
   "execution_count": 6,
   "metadata": {},
   "outputs": [
    {
     "data": {
      "text/plain": [
       "\"<b>Présentation</b><br />Gamme B PRESS de raccords en laiton à sertir est idéale pour les installations d'eau potable, de chauffage, installation solaire, de chauffage urbain et les installations d'air comprimé.<br />Mise en œuvre rapide et étanchéité parfaite grâce à son double sertissage et son joint torique.<br />Raccords à sertir pour tubes cuivre en dur, demi-dur et recuit, conformes à la norme NF EN 1057.<br />Sanitaire jusqu'à 95°C, pression maxi 16 bar. Chauffage jusqu'à 110°C, pression maxi 16 bar.<br />ATEC 14/06-1039 - NF - CSTB - Sertissage profil V\""
      ]
     },
     "execution_count": 6,
     "metadata": {},
     "output_type": "execute_result"
    }
   ],
   "source": [
    "data.product_description[234]"
   ]
  },
  {
   "cell_type": "markdown",
   "metadata": {},
   "source": [
    "En prenant plusieurs éléments textuels au hasard, on se rend compte qu'il y a beaucoup de balises html. Idée : créer un dataset 2 qui ne contient pas de balises html"
   ]
  },
  {
   "cell_type": "code",
   "execution_count": 7,
   "metadata": {},
   "outputs": [],
   "source": [
    "from bs4 import BeautifulSoup"
   ]
  },
  {
   "cell_type": "code",
   "execution_count": 8,
   "metadata": {},
   "outputs": [],
   "source": [
    "def gettext(html):\n",
    "    return BeautifulSoup(html).get_text()"
   ]
  },
  {
   "cell_type": "code",
   "execution_count": 9,
   "metadata": {},
   "outputs": [],
   "source": [
    "data2 = data.copy()"
   ]
  },
  {
   "cell_type": "code",
   "execution_count": 10,
   "metadata": {},
   "outputs": [],
   "source": [
    "data2.product_description = data2.product_description.apply(gettext)"
   ]
  },
  {
   "cell_type": "code",
   "execution_count": 11,
   "metadata": {},
   "outputs": [
    {
     "data": {
      "text/html": [
       "<div>\n",
       "<style scoped>\n",
       "    .dataframe tbody tr th:only-of-type {\n",
       "        vertical-align: middle;\n",
       "    }\n",
       "\n",
       "    .dataframe tbody tr th {\n",
       "        vertical-align: top;\n",
       "    }\n",
       "\n",
       "    .dataframe thead th {\n",
       "        text-align: right;\n",
       "    }\n",
       "</style>\n",
       "<table border=\"1\" class=\"dataframe\">\n",
       "  <thead>\n",
       "    <tr style=\"text-align: right;\">\n",
       "      <th></th>\n",
       "      <th>product_id</th>\n",
       "      <th>generic_id</th>\n",
       "      <th>article_id</th>\n",
       "      <th>image_url</th>\n",
       "      <th>product_name</th>\n",
       "      <th>product_description</th>\n",
       "      <th>category_id</th>\n",
       "      <th>platform</th>\n",
       "      <th>attribute_dict</th>\n",
       "    </tr>\n",
       "  </thead>\n",
       "  <tbody>\n",
       "    <tr>\n",
       "      <th>0</th>\n",
       "      <td>57</td>\n",
       "      <td>57</td>\n",
       "      <td>57</td>\n",
       "      <td>cdn.manomano.fr/images/images_products/10/P/57...</td>\n",
       "      <td>Raccord biconique olive F3/8 (12/17) pour cuiv...</td>\n",
       "      <td>Raccord biconique olive F3/8 (12/17) pour cuiv...</td>\n",
       "      <td>1555</td>\n",
       "      <td>FR</td>\n",
       "      <td>{'attribute': 'Filetage 1', 'value': '3/8\" (12...</td>\n",
       "    </tr>\n",
       "    <tr>\n",
       "      <th>1</th>\n",
       "      <td>58</td>\n",
       "      <td>58</td>\n",
       "      <td>57</td>\n",
       "      <td>cdn.manomano.fr/images/images_products/10/P/58...</td>\n",
       "      <td>Raccord biconique olive F1/2 (15/21) pour cuiv...</td>\n",
       "      <td>Raccord biconique olive F1/2 (15/21) pour cuiv...</td>\n",
       "      <td>1555</td>\n",
       "      <td>FR</td>\n",
       "      <td>{'attribute': 'Filetage 1', 'value': '1/2\" (15...</td>\n",
       "    </tr>\n",
       "    <tr>\n",
       "      <th>2</th>\n",
       "      <td>59</td>\n",
       "      <td>59</td>\n",
       "      <td>57</td>\n",
       "      <td>cdn.manomano.fr/images/images_products/10/P/59...</td>\n",
       "      <td>Raccord biconique olive F1/2 (15/21) pour cuiv...</td>\n",
       "      <td>Raccord biconique olive F1/2 (15/21) pour cuiv...</td>\n",
       "      <td>1555</td>\n",
       "      <td>FR</td>\n",
       "      <td>{'attribute': 'Filetage 1', 'value': '1/2\" (15...</td>\n",
       "    </tr>\n",
       "    <tr>\n",
       "      <th>3</th>\n",
       "      <td>60</td>\n",
       "      <td>60</td>\n",
       "      <td>57</td>\n",
       "      <td>cdn.manomano.fr/images/images_products/10/P/60...</td>\n",
       "      <td>Raccord biconique olive F1/2 (15/21) pour cuiv...</td>\n",
       "      <td>Raccord biconique olive F1/2 (15/21) pour cuiv...</td>\n",
       "      <td>1555</td>\n",
       "      <td>FR</td>\n",
       "      <td>{'attribute': 'Filetage 1', 'value': '1/2\" (15...</td>\n",
       "    </tr>\n",
       "    <tr>\n",
       "      <th>4</th>\n",
       "      <td>61</td>\n",
       "      <td>61</td>\n",
       "      <td>57</td>\n",
       "      <td>cdn.manomano.fr/images/images_products/10/P/61...</td>\n",
       "      <td>Raccord biconique olive F3/4 (20/27) pour cuiv...</td>\n",
       "      <td>Raccord biconique olive F3/4 (20/27) pour cuiv...</td>\n",
       "      <td>1555</td>\n",
       "      <td>FR</td>\n",
       "      <td>{'attribute': 'Filetage 1', 'value': '3/4\" (20...</td>\n",
       "    </tr>\n",
       "    <tr>\n",
       "      <th>...</th>\n",
       "      <td>...</td>\n",
       "      <td>...</td>\n",
       "      <td>...</td>\n",
       "      <td>...</td>\n",
       "      <td>...</td>\n",
       "      <td>...</td>\n",
       "      <td>...</td>\n",
       "      <td>...</td>\n",
       "      <td>...</td>\n",
       "    </tr>\n",
       "    <tr>\n",
       "      <th>2231</th>\n",
       "      <td>26296954</td>\n",
       "      <td>25981341</td>\n",
       "      <td>26000450</td>\n",
       "      <td>cdn.manomano.fr/images/images_products/12/P/26...</td>\n",
       "      <td>Raccord laiton bicone mâle M1/2' (15x21) pour ...</td>\n",
       "      <td>Détails : Installation sur tube cuivre en barr...</td>\n",
       "      <td>1555</td>\n",
       "      <td>FR</td>\n",
       "      <td>{'attribute': 'Filetage 1', 'value': '1/2\" (15...</td>\n",
       "    </tr>\n",
       "    <tr>\n",
       "      <th>2232</th>\n",
       "      <td>26296961</td>\n",
       "      <td>25981348</td>\n",
       "      <td>26000457</td>\n",
       "      <td>cdn.manomano.fr/images/images_products/12/P/26...</td>\n",
       "      <td>Raccord laiton bicone mâle M1/2' (15x21) pour ...</td>\n",
       "      <td>Détails : Installation sur tube cuivre en barr...</td>\n",
       "      <td>1555</td>\n",
       "      <td>FR</td>\n",
       "      <td>{'attribute': 'Filetage 3', 'value': '1/2\" (15...</td>\n",
       "    </tr>\n",
       "    <tr>\n",
       "      <th>2233</th>\n",
       "      <td>26296985</td>\n",
       "      <td>25981372</td>\n",
       "      <td>26000481</td>\n",
       "      <td>cdn.manomano.fr/images/images_products/12/P/26...</td>\n",
       "      <td>Jonction laiton bicone réduite pour tube cuivr...</td>\n",
       "      <td>Détails : Installation sur tube cuivre en barr...</td>\n",
       "      <td>1555</td>\n",
       "      <td>FR</td>\n",
       "      <td>{'attribute': 'Type de raccordement', 'value':...</td>\n",
       "    </tr>\n",
       "    <tr>\n",
       "      <th>2234</th>\n",
       "      <td>26297022</td>\n",
       "      <td>25981409</td>\n",
       "      <td>26000518</td>\n",
       "      <td>cdn.manomano.fr/images/images_products/12/P/26...</td>\n",
       "      <td>Raccord laiton à joint mixte femelle F1/2' (15...</td>\n",
       "      <td>Détails : Utilisation sur tube cuivre en barre...</td>\n",
       "      <td>1555</td>\n",
       "      <td>FR</td>\n",
       "      <td>{'attribute': 'Filetage 3', 'value': '1/2\" (15...</td>\n",
       "    </tr>\n",
       "    <tr>\n",
       "      <th>2235</th>\n",
       "      <td>26297031</td>\n",
       "      <td>25981418</td>\n",
       "      <td>26000527</td>\n",
       "      <td>cdn.manomano.fr/images/images_products/12/P/26...</td>\n",
       "      <td>Coude laiton à joint mixte égal pour tube cuiv...</td>\n",
       "      <td>Détails : Utilisation sur tube cuivre en barre...</td>\n",
       "      <td>1555</td>\n",
       "      <td>FR</td>\n",
       "      <td>{'attribute': 'Longueur', 'value': '12.000', '...</td>\n",
       "    </tr>\n",
       "  </tbody>\n",
       "</table>\n",
       "<p>2236 rows × 9 columns</p>\n",
       "</div>"
      ],
      "text/plain": [
       "      product_id  generic_id  article_id  \\\n",
       "0             57          57          57   \n",
       "1             58          58          57   \n",
       "2             59          59          57   \n",
       "3             60          60          57   \n",
       "4             61          61          57   \n",
       "...          ...         ...         ...   \n",
       "2231    26296954    25981341    26000450   \n",
       "2232    26296961    25981348    26000457   \n",
       "2233    26296985    25981372    26000481   \n",
       "2234    26297022    25981409    26000518   \n",
       "2235    26297031    25981418    26000527   \n",
       "\n",
       "                                              image_url  \\\n",
       "0     cdn.manomano.fr/images/images_products/10/P/57...   \n",
       "1     cdn.manomano.fr/images/images_products/10/P/58...   \n",
       "2     cdn.manomano.fr/images/images_products/10/P/59...   \n",
       "3     cdn.manomano.fr/images/images_products/10/P/60...   \n",
       "4     cdn.manomano.fr/images/images_products/10/P/61...   \n",
       "...                                                 ...   \n",
       "2231  cdn.manomano.fr/images/images_products/12/P/26...   \n",
       "2232  cdn.manomano.fr/images/images_products/12/P/26...   \n",
       "2233  cdn.manomano.fr/images/images_products/12/P/26...   \n",
       "2234  cdn.manomano.fr/images/images_products/12/P/26...   \n",
       "2235  cdn.manomano.fr/images/images_products/12/P/26...   \n",
       "\n",
       "                                           product_name  \\\n",
       "0     Raccord biconique olive F3/8 (12/17) pour cuiv...   \n",
       "1     Raccord biconique olive F1/2 (15/21) pour cuiv...   \n",
       "2     Raccord biconique olive F1/2 (15/21) pour cuiv...   \n",
       "3     Raccord biconique olive F1/2 (15/21) pour cuiv...   \n",
       "4     Raccord biconique olive F3/4 (20/27) pour cuiv...   \n",
       "...                                                 ...   \n",
       "2231  Raccord laiton bicone mâle M1/2' (15x21) pour ...   \n",
       "2232  Raccord laiton bicone mâle M1/2' (15x21) pour ...   \n",
       "2233  Jonction laiton bicone réduite pour tube cuivr...   \n",
       "2234  Raccord laiton à joint mixte femelle F1/2' (15...   \n",
       "2235  Coude laiton à joint mixte égal pour tube cuiv...   \n",
       "\n",
       "                                    product_description  category_id platform  \\\n",
       "0     Raccord biconique olive F3/8 (12/17) pour cuiv...         1555       FR   \n",
       "1     Raccord biconique olive F1/2 (15/21) pour cuiv...         1555       FR   \n",
       "2     Raccord biconique olive F1/2 (15/21) pour cuiv...         1555       FR   \n",
       "3     Raccord biconique olive F1/2 (15/21) pour cuiv...         1555       FR   \n",
       "4     Raccord biconique olive F3/4 (20/27) pour cuiv...         1555       FR   \n",
       "...                                                 ...          ...      ...   \n",
       "2231  Détails : Installation sur tube cuivre en barr...         1555       FR   \n",
       "2232  Détails : Installation sur tube cuivre en barr...         1555       FR   \n",
       "2233  Détails : Installation sur tube cuivre en barr...         1555       FR   \n",
       "2234  Détails : Utilisation sur tube cuivre en barre...         1555       FR   \n",
       "2235  Détails : Utilisation sur tube cuivre en barre...         1555       FR   \n",
       "\n",
       "                                         attribute_dict  \n",
       "0     {'attribute': 'Filetage 1', 'value': '3/8\" (12...  \n",
       "1     {'attribute': 'Filetage 1', 'value': '1/2\" (15...  \n",
       "2     {'attribute': 'Filetage 1', 'value': '1/2\" (15...  \n",
       "3     {'attribute': 'Filetage 1', 'value': '1/2\" (15...  \n",
       "4     {'attribute': 'Filetage 1', 'value': '3/4\" (20...  \n",
       "...                                                 ...  \n",
       "2231  {'attribute': 'Filetage 1', 'value': '1/2\" (15...  \n",
       "2232  {'attribute': 'Filetage 3', 'value': '1/2\" (15...  \n",
       "2233  {'attribute': 'Type de raccordement', 'value':...  \n",
       "2234  {'attribute': 'Filetage 3', 'value': '1/2\" (15...  \n",
       "2235  {'attribute': 'Longueur', 'value': '12.000', '...  \n",
       "\n",
       "[2236 rows x 9 columns]"
      ]
     },
     "execution_count": 11,
     "metadata": {},
     "output_type": "execute_result"
    }
   ],
   "source": [
    "data2"
   ]
  },
  {
   "cell_type": "code",
   "execution_count": 12,
   "metadata": {},
   "outputs": [],
   "source": [
    "# Nombre de mots dans le dataset\n",
    "liste = data2.product_description.drop_duplicates().apply(lambda x: x.split(' ')).array\n",
    "from functools import reduce\n",
    "from operator import add"
   ]
  },
  {
   "cell_type": "code",
   "execution_count": 13,
   "metadata": {},
   "outputs": [
    {
     "data": {
      "text/plain": [
       "6844"
      ]
     },
     "execution_count": 13,
     "metadata": {},
     "output_type": "execute_result"
    }
   ],
   "source": [
    "liste = reduce(add,liste)\n",
    "len(set(liste))"
   ]
  },
  {
   "cell_type": "code",
   "execution_count": 14,
   "metadata": {},
   "outputs": [],
   "source": [
    "from nltk.tokenize import TreebankWordTokenizer\n",
    "from nltk.tokenize import ToktokTokenizer\n",
    "from nltk.tokenize import TweetTokenizer"
   ]
  },
  {
   "cell_type": "code",
   "execution_count": 15,
   "metadata": {},
   "outputs": [],
   "source": [
    "tokenizers = [TreebankWordTokenizer(), ToktokTokenizer(), TweetTokenizer()]"
   ]
  },
  {
   "cell_type": "code",
   "execution_count": 16,
   "metadata": {},
   "outputs": [
    {
     "name": "stdout",
     "output_type": "stream",
     "text": [
      "Taille du vocabulaire : 6054 avec le tokenizer <nltk.tokenize.treebank.TreebankWordTokenizer object at 0x000001F99EE55B88>\n",
      "Taille du vocabulaire : 5946 avec le tokenizer <nltk.tokenize.toktok.ToktokTokenizer object at 0x000001F99EE55C08>\n",
      "Taille du vocabulaire : 5436 avec le tokenizer <nltk.tokenize.casual.TweetTokenizer object at 0x000001F99EE55C88>\n"
     ]
    }
   ],
   "source": [
    "for tok in tokenizers:\n",
    "    liste = data2.product_description.drop_duplicates().apply(lambda x: tok.tokenize(x)).array\n",
    "    liste = reduce(add, liste)\n",
    "    print('Taille du vocabulaire : {0} avec le tokenizer {1}'.format(len(set(liste)), tok))\n"
   ]
  },
  {
   "cell_type": "code",
   "execution_count": 19,
   "metadata": {},
   "outputs": [
    {
     "data": {
      "image/png": "[encoded data removed]",
      "text/plain": [
       "<Figure size 432x288 with 1 Axes>"
      ]
     },
     "metadata": {
      "needs_background": "light"
     },
     "output_type": "display_data"
    },
    {
     "data": {
      "image/png": "[encoded data removed]",
      "text/plain": [
       "<Figure size 432x288 with 1 Axes>"
      ]
     },
     "metadata": {
      "needs_background": "light"
     },
     "output_type": "display_data"
    },
    {
     "data": {
      "image/png": "[encoded data removed]",
      "text/plain": [
       "<Figure size 432x288 with 1 Axes>"
      ]
     },
     "metadata": {
      "needs_background": "light"
     },
     "output_type": "display_data"
    }
   ],
   "source": [
    "# Vérification de l'application de la loi de Zipf\n",
    "\n",
    "from collections import Counter\n",
    "import matplotlib.pyplot as plt\n",
    "\n",
    "for tok in tokenizers:\n",
    "    liste = data2.product_description.drop_duplicates().apply(lambda x: tok.tokenize(x)).array\n",
    "    liste = reduce(add, liste)\n",
    "    #On compte le nombre d'occurrence de chaque mot et on formate\n",
    "    c = Counter(liste)\n",
    "    counts = pd.DataFrame(c, index=['occurrences']).transpose().reset_index()\n",
    "    counts.columns = ['mot','occurrences']\n",
    "    #On compte les fréquences plutôt que les occurrences\n",
    "    total_number = counts.occurrences.sum()\n",
    "    counts['freq'] = counts.occurrences.apply(lambda x: x/total_number)\n",
    "    counts = counts.sort_values('freq', ascending = False)\n",
    "    plt.figure()\n",
    "    plt.grid()\n",
    "    plt.xscale('log')\n",
    "    plt.yscale('log')\n",
    "    plt.xlabel('log(rank)')\n",
    "    plt.ylabel('log(frequency)')\n",
    "    plt.title('Tokenizer{0}'.format(tok))\n",
    "    x = list(range(counts.shape[0]))\n",
    "    plt.plot(x, counts.freq)\n",
    "    plt.show()\n",
    "    \n",
    "    \n",
    "        \n"
   ]
  },
  {
   "cell_type": "code",
   "execution_count": null,
   "metadata": {},
   "outputs": [],
   "source": []
  },
  {
   "cell_type": "code",
   "execution_count": null,
   "metadata": {},
   "outputs": [],
   "source": []
  },
  {
   "cell_type": "code",
   "execution_count": null,
   "metadata": {},
   "outputs": [],
   "source": []
  }
 ],
 "metadata": {
  "kernelspec": {
   "display_name": "Python 3",
   "language": "python",
   "name": "python3"
  },
  "language_info": {
   "codemirror_mode": {
    "name": "ipython",
    "version": 3
   },
   "file_extension": ".py",
   "mimetype": "text/x-python",
   "name": "python",
   "nbconvert_exporter": "python",
   "pygments_lexer": "ipython3",
   "version": "3.7.7"
  }
 },
 "nbformat": 4,
 "nbformat_minor": 4
}
